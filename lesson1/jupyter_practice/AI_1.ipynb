{
 "cells": [
  {
   "cell_type": "markdown",
   "id": "f2e7531d-5a70-4392-8554-9440c9ef229f",
   "metadata": {},
   "source": [
    "# AI -  Lesson 1"
   ]
  },
  {
   "cell_type": "markdown",
   "id": "97f28066-d220-42f9-bd01-1b588790deb6",
   "metadata": {},
   "source": [
    "<img src=\"https://plus.unsplash.com/premium_photo-1661877737564-3dfd7282efcb?q=80&w=2100&auto=format&fit=crop&ixlib=rb-4.0.3&ixid=M3wxMjA3fDB8MHxwaG90by1wYWdlfHx8fGVufDB8fHx8fA%3D%3D\" width=400/>"
   ]
  },
  {
   "cell_type": "code",
   "execution_count": null,
   "id": "ccc63965-5052-45c1-8876-26935a5c44f9",
   "metadata": {},
   "outputs": [],
   "source": [
    "## AI history"
   ]
  },
  {
   "cell_type": "code",
   "execution_count": null,
   "id": "72e66b60-8e07-4f2a-985e-79334177c341",
   "metadata": {},
   "outputs": [],
   "source": [
    "person = input(\"What is your name?\\n\\n\")\n",
    "message = \"Hello, {}!\" .format(person)\n",
    "print(message)"
   ]
  },
  {
   "cell_type": "code",
   "execution_count": null,
   "id": "decaae71",
   "metadata": {},
   "outputs": [],
   "source": [
    "## Base Math\n",
    "### Average\n",
    "\n",
    "from random import randint\n",
    "from math import floor\n",
    "\n",
    "start = 0\n",
    "end = 10\n",
    "number_list = []\n",
    "\n",
    "for x in range(3):\n",
    "    number_list.append(randint(start, end))\n",
    "\n",
    "\n",
    "average = floor(sum(number_list) / len(number_list))\n",
    "\n",
    "print(\"Let´s calculate the average of the following numbers: \")\n",
    "for number in number_list:\n",
    "    print(number, sep=\" ,\")\n",
    "    \n",
    "guess = input(\"What is the average of these numebers (round down to nearest int)?\")\n",
    "\n",
    "while int(guess) != average :\n",
    "    print(average)\n",
    "    print(\"Incorrect, please try again.\")\n",
    "    for number in number_list:\n",
    "        print(number, sep=\" ,\")\n",
    "    guess = input(\"What is the average of these numebers (round down to nearest int)?\")\n",
    "if int(guess) == average:\n",
    "    print(f\"Yes! The average was {average}\")\n",
    "    "
   ]
  },
  {
   "cell_type": "code",
   "execution_count": null,
   "id": "1e7a52d0",
   "metadata": {},
   "outputs": [],
   "source": [
    "from random import randint\n",
    "from math import floor, sqrt\n",
    "\n",
    "print(\"To find the standard deviation for a given population:\")\n",
    "print(\"1) Find the mean (average).\")\n",
    "print(\"2) For each number, subtract the mean and square the result.\")\n",
    "print(\"3) Find the average of those squared differences.\")\n",
    "print(\"4) Take the square root of that average.\")\n",
    "\n",
    "print(\"----------------------------------------------\")\n",
    "print(\"Standard Deviations\")\n",
    "print(\"----------------------------------------------\")\n",
    "min_val = int(input(\"Enter a minimum value: \"))\n",
    "max_val = int(input(\"Enter a maximum value: \"))\n",
    "sample_size = int(input(\"Enter a range (size of population): \"))\n",
    "\n",
    "population = []\n",
    "\n",
    "for x in range(sample_size):\n",
    "    random_value = randint(min_val, max_val)\n",
    "    population.append(random_value)\n",
    "\n",
    "sum_pop = sum(population)\n",
    "len_pop = len(population)\n",
    "average_pop = sum_pop / len_pop\n",
    "\n",
    "print(\"----------------------------------------------\")\n",
    "print(\"Your sample:\", population)\n",
    "print(\"----------------------------------------------\")\n",
    "print(\n",
    "    \"First we calculate the avarage: Add up all values and divide by number of values:\"\n",
    ")\n",
    "print(f\"Sum: {sum(population)}\")\n",
    "print(f\"Size of population: {len(population)}\")\n",
    "print(f\"Average : {sum(population)} / {len(population)} = \", average_pop)\n",
    "\n",
    "pop_sub_mean = []\n",
    "pop_square_sub_mean = []\n",
    "pop_ssm_average = 0\n",
    "pop_ssma_sqrt = 0\n",
    "\n",
    "\n",
    "for pop in population:\n",
    "    pop_sub_mean.append(pop - average_pop)\n",
    "\n",
    "for pop in pop_sub_mean:\n",
    "    pop_square_sub_mean.append(pop**2)\n",
    "\n",
    "print(\"-------------------------------------------------------------\")\n",
    "print(\"2) For each number, subtract the mean and square the result: \")\n",
    "print(\"-------------------------------------------------------------\")\n",
    "print(pop_square_sub_mean)\n",
    "print(\"-------------------------------------------------------------\")\n",
    "\n",
    "pop_ssm_average = sum(pop_square_sub_mean) / len(pop_square_sub_mean)\n",
    "\n",
    "print(\"-------------------------------------------------------------\")\n",
    "print(\"3) Find the average of those squared differences: \")\n",
    "print(\"-------------------------------------------------------------\")\n",
    "print(pop_ssm_average)\n",
    "print(\"-------------------------------------------------------------\")\n",
    "\n",
    "\n",
    "pop_ssma_sqrt = sqrt(pop_ssm_average)\n",
    "print(\"-------------------------------------------------------------\")\n",
    "print(\n",
    "    \"4) And finally take the square root of that average. This value is the standard deviation\"\n",
    ")\n",
    "print(\"-------------------------------------------------------------\")\n",
    "print(\"The standard deviation is: \", pop_ssma_sqrt)\n",
    "print(\"-------------------------------------------------------------\")\n"
   ]
  },
  {
   "cell_type": "code",
   "execution_count": null,
   "id": "74000cff-146c-45b0-adf6-b7ca9b562dfc",
   "metadata": {},
   "outputs": [],
   "source": []
  }
 ],
 "metadata": {
  "kernelspec": {
   "display_name": "Python 3 (ipykernel)",
   "language": "python",
   "name": "python3"
  },
  "language_info": {
   "codemirror_mode": {
    "name": "ipython",
    "version": 3
   },
   "file_extension": ".py",
   "mimetype": "text/x-python",
   "name": "python",
   "nbconvert_exporter": "python",
   "pygments_lexer": "ipython3",
   "version": "3.12.7"
  }
 },
 "nbformat": 4,
 "nbformat_minor": 5
}
